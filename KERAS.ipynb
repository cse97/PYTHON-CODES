{
  "nbformat": 4,
  "nbformat_minor": 0,
  "metadata": {
    "colab": {
      "name": "KERAS.ipynb",
      "provenance": [],
      "authorship_tag": "ABX9TyND6ZBIiKMDhStw6yzL+G2t",
      "include_colab_link": true
    },
    "kernelspec": {
      "name": "python3",
      "display_name": "Python 3"
    }
  },
  "cells": [
    {
      "cell_type": "markdown",
      "metadata": {
        "id": "view-in-github",
        "colab_type": "text"
      },
      "source": [
        "<a href=\"https://colab.research.google.com/github/cse97/PYTHON-CODES/blob/main/KERAS.ipynb\" target=\"_parent\"><img src=\"https://colab.research.google.com/assets/colab-badge.svg\" alt=\"Open In Colab\"/></a>"
      ]
    },
    {
      "cell_type": "markdown",
      "metadata": {
        "id": "FCVloIXmpeoU"
      },
      "source": [
        "# **KERAS**"
      ]
    },
    {
      "cell_type": "markdown",
      "metadata": {
        "id": "uwN_sFcjpk4_"
      },
      "source": [
        "* Keras is an Open Source Neural Network library written in Python that runs on top of Theano or Tensorflow.\n",
        "* Keras High-Level API handles the way we make models, defining layers, or set up multiple input-output models. In this level, Keras also compiles our model with loss and optimizer functions, training process with fit function. \n",
        "* Backend is a term in Keras that performs all low-level computation such as tensor products, convolutions and many other things with the help of other libraries such as Tensorflow or Theano.Tensorflow is the default \"backend engine\" but we can change it in the configuration."
      ]
    },
    {
      "cell_type": "code",
      "metadata": {
        "id": "Clu_B4H0pcNg"
      },
      "source": [
        "from keras.models import Sequential\n",
        "from keras.layers import Dense, Activation,Conv2D,MaxPooling2D,Flatten,Dropout\n",
        "\n",
        "# Sequential Model\n",
        "model = Sequential()"
      ],
      "execution_count": null,
      "outputs": []
    },
    {
      "cell_type": "code",
      "metadata": {
        "id": "3LRi5nOup3jE"
      },
      "source": [
        "# Convolutional layer as input layer with 48 filters of size 3x3 and use ReLU as an activation function\n",
        "model.add(Conv2D(48, (3, 3), activation='relu'))"
      ],
      "execution_count": null,
      "outputs": []
    },
    {
      "cell_type": "code",
      "metadata": {
        "id": "qHvbu4nZqJrW"
      },
      "source": [
        "# MaxPooling layer with kernel size\n",
        "model.add(MaxPooling2D(pool_size=(2, 2)))"
      ],
      "execution_count": null,
      "outputs": []
    },
    {
      "cell_type": "code",
      "metadata": {
        "id": "-FXMqpDHqPDe"
      },
      "source": [
        "# Dense layer [Fully connected layer with output size]\n",
        "model.add(Dense(256, activation='relu'))"
      ],
      "execution_count": null,
      "outputs": []
    },
    {
      "cell_type": "code",
      "metadata": {
        "id": "GpBxPisbqeQT"
      },
      "source": [
        "# Dropout layer with 50% probability\n",
        "model.add(Dropout(0.5))"
      ],
      "execution_count": null,
      "outputs": []
    },
    {
      "cell_type": "code",
      "metadata": {
        "id": "7C9XgPnGrLpf"
      },
      "source": [
        "# Compiling [to change weights and minimized the loss]\n",
        "model.compile(loss='mean_squared_error', optimizer='adam')"
      ],
      "execution_count": null,
      "outputs": []
    },
    {
      "cell_type": "code",
      "metadata": {
        "id": "p5cL6DRusQ-X"
      },
      "source": [
        "# define training and testing data as per requirement"
      ],
      "execution_count": null,
      "outputs": []
    },
    {
      "cell_type": "code",
      "metadata": {
        "id": "XoAmvUSarOUW"
      },
      "source": [
        "# fit [to fed the training and validation data to the model]\n",
        "model.fit(X_train, X_train, batch_size=32, epochs=10, validation_data=(x_val, y_val))"
      ],
      "execution_count": null,
      "outputs": []
    },
    {
      "cell_type": "code",
      "metadata": {
        "id": "tsvEYwzHrzRz"
      },
      "source": [
        "# Evaluate the model with test data\n",
        "score = model.evaluate(x_test, y_test, batch_size=32)"
      ],
      "execution_count": null,
      "outputs": []
    }
  ]
}